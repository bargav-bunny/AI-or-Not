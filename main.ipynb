{
 "cells": [
  {
   "cell_type": "code",
   "execution_count": 112,
   "id": "69e202b1-2aab-4833-b3d0-7e4f160ba3a3",
   "metadata": {},
   "outputs": [],
   "source": [
    "import pandas as pd\n",
    "import torch\n",
    "import matplotlib.pyplot as plt\n",
    "import seaborn as sns\n",
    "import numpy as np\n",
    "from scipy.sparse import hstack\n",
    "\n",
    "from tqdm import tqdm\n",
    "\n",
    "from collections import Counter\n",
    "import re\n",
    "\n",
    "import nltk\n",
    "from nltk.corpus import stopwords\n",
    "from nltk.stem import WordNetLemmatizer\n",
    "\n",
    "import torch\n",
    "import torch.nn as nn\n",
    "import torch.optim as optim\n",
    "\n",
    "from sklearn.feature_extraction.text import TfidfVectorizer\n",
    "from sklearn.metrics.pairwise import cosine_similarity\n",
    "from sklearn.decomposition import PCA\n",
    "\n",
    "from xgboost import XGBClassifier\n",
    "\n",
    "\n",
    "from sentence_transformers import SentenceTransformer\n",
    "\n",
    "from sklearn.model_selection import train_test_split\n",
    "\n",
    "from sklearn.metrics import classification_report\n",
    "import transformers\n",
    "\n",
    "from transformers import BertForSequenceClassification\n",
    "\n",
    "from transformers import AutoModel, BertTokenizerFast\n",
    "from torch.utils.data import TensorDataset, DataLoader"
   ]
  },
  {
   "cell_type": "code",
   "execution_count": null,
   "id": "f0118779-8382-4bc4-b06d-b23f51fb4c12",
   "metadata": {},
   "outputs": [],
   "source": [
    "# Download NLTK stopwords if you haven't already\n",
    "\n",
    "nltk.download('stopwords')\n",
    "nltk.download('wordnet')"
   ]
  },
  {
   "cell_type": "code",
   "execution_count": 113,
   "id": "87c137d5-3b27-4c2d-9894-1217939c9d0d",
   "metadata": {},
   "outputs": [
    {
     "data": {
      "text/html": [
       "<div>\n",
       "<style scoped>\n",
       "    .dataframe tbody tr th:only-of-type {\n",
       "        vertical-align: middle;\n",
       "    }\n",
       "\n",
       "    .dataframe tbody tr th {\n",
       "        vertical-align: top;\n",
       "    }\n",
       "\n",
       "    .dataframe thead th {\n",
       "        text-align: right;\n",
       "    }\n",
       "</style>\n",
       "<table border=\"1\" class=\"dataframe\">\n",
       "  <thead>\n",
       "    <tr style=\"text-align: right;\">\n",
       "      <th></th>\n",
       "      <th>doc_id</th>\n",
       "      <th>title</th>\n",
       "      <th>abstract</th>\n",
       "      <th>label</th>\n",
       "    </tr>\n",
       "  </thead>\n",
       "  <tbody>\n",
       "    <tr>\n",
       "      <th>0</th>\n",
       "      <td>0</td>\n",
       "      <td>Exaggerated Autophagy in Stanford Type A Aorti...</td>\n",
       "      <td>\\n\\nThis study presents a novel transcriptome ...</td>\n",
       "      <td>1</td>\n",
       "    </tr>\n",
       "    <tr>\n",
       "      <th>1</th>\n",
       "      <td>1</td>\n",
       "      <td>ABO blood types and sepsis mortality</td>\n",
       "      <td>\\n\\nThe ABO blood types have been associated w...</td>\n",
       "      <td>1</td>\n",
       "    </tr>\n",
       "    <tr>\n",
       "      <th>2</th>\n",
       "      <td>2</td>\n",
       "      <td>AAV8-Mediated Angiotensin-Converting Enzyme 2 ...</td>\n",
       "      <td>\\n\\nTitle: AAV8-Mediated Angiotensin-Convertin...</td>\n",
       "      <td>1</td>\n",
       "    </tr>\n",
       "    <tr>\n",
       "      <th>3</th>\n",
       "      <td>3</td>\n",
       "      <td>MyCare study: protocol for a controlled trial ...</td>\n",
       "      <td>INTRODUCTION: People with serious mental illne...</td>\n",
       "      <td>0</td>\n",
       "    </tr>\n",
       "    <tr>\n",
       "      <th>4</th>\n",
       "      <td>4</td>\n",
       "      <td>Exploring collective emotion transmission in f...</td>\n",
       "      <td>Collective emotion is the synchronous converge...</td>\n",
       "      <td>0</td>\n",
       "    </tr>\n",
       "    <tr>\n",
       "      <th>5</th>\n",
       "      <td>5</td>\n",
       "      <td>Charaterization of H9 subtype influenza viruse...</td>\n",
       "      <td>\\n\\nThis study examines the charaterization of...</td>\n",
       "      <td>1</td>\n",
       "    </tr>\n",
       "    <tr>\n",
       "      <th>6</th>\n",
       "      <td>6</td>\n",
       "      <td>Multiple arterial conduits for multi-vessel co...</td>\n",
       "      <td>BACKGROUND: Advantages of multiple arterial co...</td>\n",
       "      <td>0</td>\n",
       "    </tr>\n",
       "    <tr>\n",
       "      <th>7</th>\n",
       "      <td>7</td>\n",
       "      <td>Non-invasive estimation of cerebral perfusion ...</td>\n",
       "      <td>OBJECTIVE: To identify if cerebral perfusion p...</td>\n",
       "      <td>0</td>\n",
       "    </tr>\n",
       "  </tbody>\n",
       "</table>\n",
       "</div>"
      ],
      "text/plain": [
       "   doc_id                                              title  \\\n",
       "0       0  Exaggerated Autophagy in Stanford Type A Aorti...   \n",
       "1       1               ABO blood types and sepsis mortality   \n",
       "2       2  AAV8-Mediated Angiotensin-Converting Enzyme 2 ...   \n",
       "3       3  MyCare study: protocol for a controlled trial ...   \n",
       "4       4  Exploring collective emotion transmission in f...   \n",
       "5       5  Charaterization of H9 subtype influenza viruse...   \n",
       "6       6  Multiple arterial conduits for multi-vessel co...   \n",
       "7       7  Non-invasive estimation of cerebral perfusion ...   \n",
       "\n",
       "                                            abstract  label  \n",
       "0  \\n\\nThis study presents a novel transcriptome ...      1  \n",
       "1  \\n\\nThe ABO blood types have been associated w...      1  \n",
       "2  \\n\\nTitle: AAV8-Mediated Angiotensin-Convertin...      1  \n",
       "3  INTRODUCTION: People with serious mental illne...      0  \n",
       "4  Collective emotion is the synchronous converge...      0  \n",
       "5  \\n\\nThis study examines the charaterization of...      1  \n",
       "6  BACKGROUND: Advantages of multiple arterial co...      0  \n",
       "7  OBJECTIVE: To identify if cerebral perfusion p...      0  "
      ]
     },
     "execution_count": 113,
     "metadata": {},
     "output_type": "execute_result"
    }
   ],
   "source": [
    "data = pd.read_csv('ai-ga-dataset-sampled.csv')\n",
    "data.head(n = 8)"
   ]
  },
  {
   "cell_type": "code",
   "execution_count": 114,
   "id": "586a6848-3f41-41b2-8bfc-b3e31a903d1d",
   "metadata": {},
   "outputs": [],
   "source": [
    "train_data, test_data = train_test_split(data, test_size = 0.2, random_state = 42)"
   ]
  },
  {
   "cell_type": "code",
   "execution_count": 115,
   "id": "632100d7-0713-4e5c-85e8-07512af14331",
   "metadata": {},
   "outputs": [],
   "source": [
    "train_data.to_csv('train.csv', index = False)\n",
    "test_data.to_csv('test.csv', index = False)"
   ]
  },
  {
   "cell_type": "code",
   "execution_count": null,
   "id": "11b3476f-9cef-433d-820a-06651e3e7458",
   "metadata": {},
   "outputs": [],
   "source": []
  },
  {
   "cell_type": "code",
   "execution_count": 116,
   "id": "c2267b64-b174-4d97-ae92-a2f0c6e48c42",
   "metadata": {},
   "outputs": [],
   "source": [
    "df = pd.read_csv('train.csv')\n"
   ]
  },
  {
   "cell_type": "code",
   "execution_count": 117,
   "id": "030a0be0-8baf-4a16-a2bd-39303f314a3a",
   "metadata": {},
   "outputs": [
    {
     "data": {
      "image/png": "[encoded data removed]",
      "text/plain": [
       "<Figure size 640x480 with 1 Axes>"
      ]
     },
     "metadata": {},
     "output_type": "display_data"
    }
   ],
   "source": [
    "value_counts = df['label'].value_counts()\n",
    "\n",
    "plt.bar(value_counts.index, value_counts.values)\n",
    "plt.xticks([0, 1])\n",
    "plt.xlabel('Values')\n",
    "plt.ylabel('Count')\n",
    "plt.title('Number of Zeros and Ones')\n",
    "plt.show()"
   ]
  },
  {
   "cell_type": "code",
   "execution_count": null,
   "id": "2f88b73a-f44a-4c8e-a017-372632ffd8d0",
   "metadata": {},
   "outputs": [],
   "source": []
  },
  {
   "cell_type": "code",
   "execution_count": null,
   "id": "b62229b8-4955-4a07-9634-014cd2d4d96e",
   "metadata": {},
   "outputs": [],
   "source": []
  },
  {
   "cell_type": "markdown",
   "id": "d1f44eb2-c5a9-4d40-bcc5-ac9bed493bf8",
   "metadata": {},
   "source": [
    "# Simple Approach: Using TF-IDF Vectorizer"
   ]
  },
  {
   "cell_type": "code",
   "execution_count": 118,
   "id": "09b88bd7-0999-4327-8032-8d2dc9212925",
   "metadata": {},
   "outputs": [],
   "source": [
    "\n",
    "def clean_text(text):\n",
    "    \n",
    "    text = text.lower()\n",
    "\n",
    "    # Removing punctuation and special characters\n",
    "    text = re.sub(r'[^\\w\\s]', '', text)\n",
    "\n",
    "    # Removing newlines and tabs\n",
    "    text = re.sub(r'\\s+', ' ', text).strip()\n",
    "\n",
    "    # removing stopwords\n",
    "    stop_words = set(stopwords.words('english'))\n",
    "    text = ' '.join(word for word in text.split() if word not in stop_words)\n",
    "\n",
    "    # lemmatizing words\n",
    "    lemmatizer = WordNetLemmatizer()\n",
    "    text = ' '.join(lemmatizer.lemmatize(word) for word in text.split())\n",
    "\n",
    "    return text\n",
    "\n",
    "df['cleaned_abstract'] = df['abstract'].apply(clean_text)\n",
    "df['cleaned_title'] = df['title'].apply(clean_text)\n"
   ]
  },
  {
   "cell_type": "code",
   "execution_count": 119,
   "id": "bbb2339a-253b-4e9b-94a7-430bf21b7d34",
   "metadata": {},
   "outputs": [],
   "source": [
    "abstract_documents = df['cleaned_abstract'].values\n",
    "\n",
    "abstract_tfidf_vectorizer = TfidfVectorizer(max_features = 1000, ngram_range = (1,2))\n",
    "\n",
    "abstract_tfidf_matrix = abstract_tfidf_vectorizer.fit_transform(abstract_documents)"
   ]
  },
  {
   "cell_type": "code",
   "execution_count": 120,
   "id": "3b7da855-bf4e-4398-a5e1-c69a67617c67",
   "metadata": {},
   "outputs": [],
   "source": [
    "title_documents = df['cleaned_title'].values\n",
    "\n",
    "title_tfidf_vectorizer = TfidfVectorizer(max_features = 250)\n",
    "\n",
    "title_tfidf_matrix = title_tfidf_vectorizer.fit_transform(title_documents)"
   ]
  },
  {
   "cell_type": "code",
   "execution_count": 121,
   "id": "78aa4a66-e538-46c1-9c4b-e168a103424c",
   "metadata": {},
   "outputs": [],
   "source": [
    "combined_tfidf_matrix = hstack([abstract_tfidf_matrix, title_tfidf_matrix])\n"
   ]
  },
  {
   "cell_type": "code",
   "execution_count": 122,
   "id": "d5575d45-9bb9-4164-ab32-28b94d26487a",
   "metadata": {},
   "outputs": [],
   "source": [
    "X_train = combined_tfidf_matrix\n",
    "y_train = df['label'].values\n"
   ]
  },
  {
   "cell_type": "code",
   "execution_count": 123,
   "id": "cd8951d3-8bcb-4860-83eb-abc6a5d5348a",
   "metadata": {},
   "outputs": [
    {
     "data": {
      "text/plain": [
       "(11464, 100)"
      ]
     },
     "execution_count": 123,
     "metadata": {},
     "output_type": "execute_result"
    }
   ],
   "source": [
    "pca = PCA(n_components=100)\n",
    "\n",
    "X_train_dense = X_train.todense()\n",
    "X_train = pca.fit_transform(np.array(X_train_dense))\n",
    "\n",
    "X_train.shape"
   ]
  },
  {
   "cell_type": "code",
   "execution_count": 124,
   "id": "931c1d6b-315f-463c-b78d-de9bd90e66dc",
   "metadata": {},
   "outputs": [],
   "source": [
    "# model = XGBClassifier()\n",
    "\n",
    "# model.fit(X_train, y_train)"
   ]
  },
  {
   "cell_type": "code",
   "execution_count": 125,
   "id": "638f808c-563f-463b-b07e-c7ccf7d10418",
   "metadata": {},
   "outputs": [],
   "source": [
    "X_train_val, X_val, y_train_val, y_val = train_test_split(X_train, y_train, test_size=0.2, random_state=42)\n"
   ]
  },
  {
   "cell_type": "code",
   "execution_count": 126,
   "id": "2dbc8337-e6d2-4482-bd90-3ddc8884a810",
   "metadata": {},
   "outputs": [],
   "source": [
    "# Converting to PyTorch tensors\n",
    "X_train_tensor = torch.tensor(X_train_val, dtype=torch.float32)\n",
    "y_train_tensor = torch.tensor(y_train_val, dtype=torch.float32)\n",
    "\n",
    "X_val_tensor = torch.tensor(X_val, dtype=torch.float32)\n",
    "y_val_tensor = torch.tensor(y_val, dtype=torch.float32)\n",
    "\n",
    "train_dataset = TensorDataset(X_train_tensor, y_train_tensor)\n",
    "val_dataset = TensorDataset(X_val_tensor, y_val_tensor)\n",
    "\n",
    "train_loader = DataLoader(train_dataset, batch_size=32, shuffle=True)\n",
    "val_loader = DataLoader(val_dataset, batch_size=32, shuffle=False)\n"
   ]
  },
  {
   "cell_type": "code",
   "execution_count": 127,
   "id": "ed5ac074-b5fe-43fd-b0aa-c67706a8dedd",
   "metadata": {},
   "outputs": [
    {
     "name": "stderr",
     "output_type": "stream",
     "text": [
      "100%|██████████| 287/287 [00:00<00:00, 763.91it/s]\n"
     ]
    },
    {
     "name": "stdout",
     "output_type": "stream",
     "text": [
      "Epoch 1/10, Train Loss: 0.4270, Val Loss: 0.1874, Val Acc: 0.9269\n"
     ]
    },
    {
     "name": "stderr",
     "output_type": "stream",
     "text": [
      "100%|██████████| 287/287 [00:00<00:00, 784.06it/s]\n"
     ]
    },
    {
     "name": "stdout",
     "output_type": "stream",
     "text": [
      "Epoch 2/10, Train Loss: 0.1873, Val Loss: 0.1743, Val Acc: 0.9308\n"
     ]
    },
    {
     "name": "stderr",
     "output_type": "stream",
     "text": [
      "100%|██████████| 287/287 [00:00<00:00, 773.09it/s]\n"
     ]
    },
    {
     "name": "stdout",
     "output_type": "stream",
     "text": [
      "Epoch 3/10, Train Loss: 0.1790, Val Loss: 0.1792, Val Acc: 0.9308\n"
     ]
    },
    {
     "name": "stderr",
     "output_type": "stream",
     "text": [
      "100%|██████████| 287/287 [00:00<00:00, 777.58it/s]\n"
     ]
    },
    {
     "name": "stdout",
     "output_type": "stream",
     "text": [
      "Epoch 4/10, Train Loss: 0.1740, Val Loss: 0.1739, Val Acc: 0.9323\n"
     ]
    },
    {
     "name": "stderr",
     "output_type": "stream",
     "text": [
      "100%|██████████| 287/287 [00:00<00:00, 783.20it/s]\n"
     ]
    },
    {
     "name": "stdout",
     "output_type": "stream",
     "text": [
      "Epoch 5/10, Train Loss: 0.1693, Val Loss: 0.1752, Val Acc: 0.9355\n"
     ]
    },
    {
     "name": "stderr",
     "output_type": "stream",
     "text": [
      "100%|██████████| 287/287 [00:00<00:00, 777.15it/s]\n"
     ]
    },
    {
     "name": "stdout",
     "output_type": "stream",
     "text": [
      "Epoch 6/10, Train Loss: 0.1633, Val Loss: 0.1671, Val Acc: 0.9364\n"
     ]
    },
    {
     "name": "stderr",
     "output_type": "stream",
     "text": [
      "100%|██████████| 287/287 [00:00<00:00, 780.31it/s]\n"
     ]
    },
    {
     "name": "stdout",
     "output_type": "stream",
     "text": [
      "Epoch 7/10, Train Loss: 0.1559, Val Loss: 0.1624, Val Acc: 0.9364\n"
     ]
    },
    {
     "name": "stderr",
     "output_type": "stream",
     "text": [
      "100%|██████████| 287/287 [00:00<00:00, 777.94it/s]\n"
     ]
    },
    {
     "name": "stdout",
     "output_type": "stream",
     "text": [
      "Epoch 8/10, Train Loss: 0.1500, Val Loss: 0.1587, Val Acc: 0.9403\n"
     ]
    },
    {
     "name": "stderr",
     "output_type": "stream",
     "text": [
      "100%|██████████| 287/287 [00:00<00:00, 783.72it/s]\n"
     ]
    },
    {
     "name": "stdout",
     "output_type": "stream",
     "text": [
      "Epoch 9/10, Train Loss: 0.1441, Val Loss: 0.1579, Val Acc: 0.9403\n"
     ]
    },
    {
     "name": "stderr",
     "output_type": "stream",
     "text": [
      "100%|██████████| 287/287 [00:00<00:00, 783.32it/s]"
     ]
    },
    {
     "name": "stdout",
     "output_type": "stream",
     "text": [
      "Epoch 10/10, Train Loss: 0.1380, Val Loss: 0.1591, Val Acc: 0.9377\n"
     ]
    },
    {
     "name": "stderr",
     "output_type": "stream",
     "text": [
      "\n"
     ]
    }
   ],
   "source": [
    "class SimpleNN(nn.Module):\n",
    "    def __init__(self, input_dim, hidden_dim, output_dim):\n",
    "        super(SimpleNN, self).__init__()\n",
    "        self.hidden1 = nn.Linear(input_dim, hidden_dim)\n",
    "        self.relu1 = nn.ReLU()\n",
    "        \n",
    "        self.hidden2 = nn.Linear(hidden_dim, hidden_dim)\n",
    "        self.relu2 = nn.ReLU()\n",
    "        \n",
    "        self.output = nn.Linear(hidden_dim, output_dim)\n",
    "\n",
    "    def forward(self, x):\n",
    "        x = self.hidden1(x)\n",
    "        x = self.relu1(x)\n",
    "        x = self.hidden2(x)\n",
    "        x = self.relu2(x)\n",
    "        x = self.output(x)\n",
    "        return x\n",
    "\n",
    "input_dim = 100 \n",
    "hidden_dim = 50 \n",
    "output_dim = 1 \n",
    "\n",
    "net = SimpleNN(input_dim, hidden_dim, output_dim)\n",
    "\n",
    "criterion = nn.BCEWithLogitsLoss()\n",
    "optimizer = optim.Adam(net.parameters(), lr=0.001)\n",
    "\n",
    "def binary_accuracy(preds, y):\n",
    "    rounded_preds = torch.round(torch.sigmoid(preds))\n",
    "    correct = (rounded_preds == y).float()  # Convert to float for division\n",
    "    acc = correct.sum() / len(correct)\n",
    "    return acc\n",
    "\n",
    "num_epochs = 10 \n",
    "\n",
    "for epoch in range(num_epochs):\n",
    "    net.train()\n",
    "    train_loss = 0.0\n",
    "    for inputs, labels in tqdm(train_loader):\n",
    "        optimizer.zero_grad()\n",
    "        outputs = net(inputs)\n",
    "        loss = criterion(outputs, labels.unsqueeze(1))\n",
    "        loss.backward()\n",
    "        optimizer.step()\n",
    "        train_loss += loss.item()\n",
    "\n",
    "    net.eval()\n",
    "    val_loss = 0.0\n",
    "    val_acc = 0.0\n",
    "    with torch.no_grad():\n",
    "        for inputs, labels in val_loader:\n",
    "            outputs = net(inputs)\n",
    "            loss = criterion(outputs, labels.unsqueeze(1))\n",
    "            val_loss += loss.item()\n",
    "            val_acc += binary_accuracy(outputs, labels.unsqueeze(1))\n",
    "\n",
    "    # Average losses and accuracy\n",
    "    train_loss /= len(train_loader)\n",
    "    val_loss /= len(val_loader)\n",
    "    val_acc /= len(val_loader)\n",
    "\n",
    "    print(f\"Epoch {epoch+1}/{num_epochs}, Train Loss: {train_loss:.4f}, Val Loss: {val_loss:.4f}, Val Acc: {val_acc:.4f}\")\n"
   ]
  },
  {
   "cell_type": "markdown",
   "id": "052c42c4-3f07-47c1-8d0b-9c7b4dd83316",
   "metadata": {},
   "source": [
    "#### Testing or Inference"
   ]
  },
  {
   "cell_type": "code",
   "execution_count": 128,
   "id": "a424b5d4-2e11-419c-8828-12a1c7eb385d",
   "metadata": {},
   "outputs": [],
   "source": [
    "test_df = pd.read_csv('test.csv')\n",
    "\n",
    "test_df['cleaned_abstract'] = test_df['abstract'].apply(clean_text)\n",
    "test_df['cleaned_title'] = test_df['title'].apply(clean_text)\n"
   ]
  },
  {
   "cell_type": "code",
   "execution_count": 129,
   "id": "5707f161-49b9-4128-bc06-c2b9f8d9c6bf",
   "metadata": {},
   "outputs": [],
   "source": [
    "test_abstract_tfidf = abstract_tfidf_vectorizer.transform(test_df['cleaned_abstract'].values)\n",
    "test_title_tfidf = title_tfidf_vectorizer.transform(test_df['cleaned_title'].values)\n",
    "\n",
    "test_combined_tfidf_matrix = hstack([test_abstract_tfidf, test_title_tfidf])\n"
   ]
  },
  {
   "cell_type": "code",
   "execution_count": null,
   "id": "85c2a389-465a-4e07-a79c-ceddd1ce03b8",
   "metadata": {},
   "outputs": [],
   "source": []
  },
  {
   "cell_type": "code",
   "execution_count": 130,
   "id": "a1e17476-3041-44df-8ef0-ab58b7519a49",
   "metadata": {},
   "outputs": [],
   "source": [
    "X_test = test_combined_tfidf_matrix\n",
    "X_test_dense = X_test.todense()\n",
    "X_test = pca.transform(np.array(X_test_dense))\n",
    "\n"
   ]
  },
  {
   "cell_type": "code",
   "execution_count": 131,
   "id": "11cce542-d0a3-4d42-abd8-f54bd8ded770",
   "metadata": {},
   "outputs": [],
   "source": [
    "X_test_tensor = torch.tensor(X_test, dtype=torch.float32)\n",
    "\n",
    "test_dataset = TensorDataset(X_test_tensor)\n",
    "\n",
    "test_loader = DataLoader(test_dataset, batch_size=32, shuffle=False) \n",
    "\n",
    "def predict(model, data_loader):\n",
    "    model.eval()  \n",
    "    predictions = []\n",
    "\n",
    "    with torch.no_grad():\n",
    "        for inputs in data_loader:\n",
    "            inputs = inputs[0]  \n",
    "            outputs = model(inputs)\n",
    "            preds = torch.sigmoid(outputs).round()\n",
    "            predictions.extend(preds.squeeze().tolist())\n",
    "\n",
    "    return predictions\n",
    "\n",
    "test_predictions = predict(net, test_loader)\n"
   ]
  },
  {
   "cell_type": "code",
   "execution_count": null,
   "id": "0ff38ee2-8a01-4c98-b4a9-233dc05ea4e1",
   "metadata": {},
   "outputs": [],
   "source": []
  },
  {
   "cell_type": "code",
   "execution_count": 133,
   "id": "c0b86a86-5998-49fb-8d46-fb0906852a22",
   "metadata": {},
   "outputs": [
    {
     "name": "stdout",
     "output_type": "stream",
     "text": [
      "              precision    recall  f1-score   support\n",
      "\n",
      "         0.0       0.94      0.92      0.93      1481\n",
      "         1.0       0.92      0.94      0.93      1386\n",
      "\n",
      "    accuracy                           0.93      2867\n",
      "   macro avg       0.93      0.93      0.93      2867\n",
      "weighted avg       0.93      0.93      0.93      2867\n",
      "\n"
     ]
    }
   ],
   "source": [
    "print(classification_report(test_predictions, test_df['label']))"
   ]
  },
  {
   "cell_type": "markdown",
   "id": "85a3cb84-7be3-4db8-874d-e9805f2f0d5f",
   "metadata": {},
   "source": [
    "##### Accuracy: 93%  and F1: 93%"
   ]
  },
  {
   "cell_type": "code",
   "execution_count": null,
   "id": "895958fa-e4f4-4ea4-a6f2-d56c0faba839",
   "metadata": {},
   "outputs": [],
   "source": []
  },
  {
   "cell_type": "code",
   "execution_count": null,
   "id": "558bfb37-a870-48be-81b2-fd50e33c8d88",
   "metadata": {},
   "outputs": [],
   "source": []
  },
  {
   "cell_type": "markdown",
   "id": "bae9f042-b22f-4cbd-9b6b-da00b24445a8",
   "metadata": {},
   "source": [
    "# Another simpler Approach: Using Glove Embeddings"
   ]
  },
  {
   "cell_type": "code",
   "execution_count": 134,
   "id": "5d9af49b-f5db-4942-a5a4-19bb390553aa",
   "metadata": {},
   "outputs": [],
   "source": [
    "\n",
    "# Loading GloVe embeddings\n",
    "embeddings_dict = {}\n",
    "with open(\"glove.6B.100d.txt\", 'r', encoding='utf-8') as f:\n",
    "    for line in f:\n",
    "        values = line.split()\n",
    "        word = values[0]\n",
    "        vector = np.asarray(values[1:], \"float32\")\n",
    "        embeddings_dict[word] = vector\n"
   ]
  },
  {
   "cell_type": "code",
   "execution_count": 135,
   "id": "a441c763-f8d1-43ab-97a8-c5919d02dde1",
   "metadata": {},
   "outputs": [],
   "source": [
    "# Averaging words to get sentence embeddings\n",
    "\n",
    "def document_vector(doc):\n",
    "    words = doc.split()\n",
    "    doc_vector = np.mean([embeddings_dict[word] for word in words if word in embeddings_dict], axis=0)\n",
    "    return doc_vector\n",
    "\n",
    "\n",
    "abstract_vectors = np.array([document_vector(doc) for doc in df['cleaned_abstract']])\n",
    "title_vectors = np.array([document_vector(doc) for doc in df['cleaned_title']])\n",
    "\n",
    "abstract_vectors, title_vectors = np.nan_to_num(abstract_vectors), np.nan_to_num(title_vectors)\n"
   ]
  },
  {
   "cell_type": "code",
   "execution_count": 136,
   "id": "5e54bdd4-b4f2-4a9d-b1be-d00f3284128c",
   "metadata": {},
   "outputs": [
    {
     "data": {
      "text/plain": [
       "(11464, 200)"
      ]
     },
     "execution_count": 136,
     "metadata": {},
     "output_type": "execute_result"
    }
   ],
   "source": [
    "combined_vectors = np.hstack((abstract_vectors, title_vectors))\n",
    "\n",
    "X_train = combined_vectors\n",
    "y_train = df['label'].values\n",
    "\n",
    "X_train.shape"
   ]
  },
  {
   "cell_type": "code",
   "execution_count": 137,
   "id": "876f7eaa-27ba-444f-aac5-a227a5147482",
   "metadata": {},
   "outputs": [],
   "source": [
    "X_train_val, X_val, y_train_val, y_val = train_test_split(X_train, y_train, test_size=0.2, random_state=42)\n",
    "\n",
    "X_train_tensor = torch.tensor(X_train_val, dtype=torch.float32)\n",
    "y_train_tensor = torch.tensor(y_train_val, dtype=torch.float32)\n",
    "\n",
    "X_val_tensor = torch.tensor(X_val, dtype=torch.float32)\n",
    "y_val_tensor = torch.tensor(y_val, dtype=torch.float32)\n",
    "\n",
    "train_dataset = TensorDataset(X_train_tensor, y_train_tensor)\n",
    "val_dataset = TensorDataset(X_val_tensor, y_val_tensor)\n",
    "\n",
    "train_loader = DataLoader(train_dataset, batch_size=32, shuffle=True)\n",
    "val_loader = DataLoader(val_dataset, batch_size=32, shuffle=False)\n",
    "\n",
    "\n"
   ]
  },
  {
   "cell_type": "code",
   "execution_count": 139,
   "id": "13ce87a1-7c8f-410f-a768-550c97890fb7",
   "metadata": {},
   "outputs": [
    {
     "name": "stderr",
     "output_type": "stream",
     "text": [
      "100%|██████████| 287/287 [00:00<00:00, 757.11it/s]\n"
     ]
    },
    {
     "name": "stdout",
     "output_type": "stream",
     "text": [
      "Epoch 1/20, Train Loss: 0.4798, Val Loss: 0.3637, Val Acc: 0.8377\n"
     ]
    },
    {
     "name": "stderr",
     "output_type": "stream",
     "text": [
      "100%|██████████| 287/287 [00:00<00:00, 769.59it/s]\n"
     ]
    },
    {
     "name": "stdout",
     "output_type": "stream",
     "text": [
      "Epoch 2/20, Train Loss: 0.3439, Val Loss: 0.3396, Val Acc: 0.8539\n"
     ]
    },
    {
     "name": "stderr",
     "output_type": "stream",
     "text": [
      "100%|██████████| 287/287 [00:00<00:00, 754.24it/s]\n"
     ]
    },
    {
     "name": "stdout",
     "output_type": "stream",
     "text": [
      "Epoch 3/20, Train Loss: 0.3092, Val Loss: 0.3248, Val Acc: 0.8578\n"
     ]
    },
    {
     "name": "stderr",
     "output_type": "stream",
     "text": [
      "100%|██████████| 287/287 [00:00<00:00, 749.21it/s]\n"
     ]
    },
    {
     "name": "stdout",
     "output_type": "stream",
     "text": [
      "Epoch 4/20, Train Loss: 0.2909, Val Loss: 0.3102, Val Acc: 0.8689\n"
     ]
    },
    {
     "name": "stderr",
     "output_type": "stream",
     "text": [
      "100%|██████████| 287/287 [00:00<00:00, 743.55it/s]\n"
     ]
    },
    {
     "name": "stdout",
     "output_type": "stream",
     "text": [
      "Epoch 5/20, Train Loss: 0.2801, Val Loss: 0.2993, Val Acc: 0.8752\n"
     ]
    },
    {
     "name": "stderr",
     "output_type": "stream",
     "text": [
      "100%|██████████| 287/287 [00:00<00:00, 751.87it/s]\n"
     ]
    },
    {
     "name": "stdout",
     "output_type": "stream",
     "text": [
      "Epoch 6/20, Train Loss: 0.2708, Val Loss: 0.2940, Val Acc: 0.8819\n"
     ]
    },
    {
     "name": "stderr",
     "output_type": "stream",
     "text": [
      "100%|██████████| 287/287 [00:00<00:00, 752.30it/s]\n"
     ]
    },
    {
     "name": "stdout",
     "output_type": "stream",
     "text": [
      "Epoch 7/20, Train Loss: 0.2549, Val Loss: 0.2960, Val Acc: 0.8754\n"
     ]
    },
    {
     "name": "stderr",
     "output_type": "stream",
     "text": [
      "100%|██████████| 287/287 [00:00<00:00, 750.15it/s]\n"
     ]
    },
    {
     "name": "stdout",
     "output_type": "stream",
     "text": [
      "Epoch 8/20, Train Loss: 0.2497, Val Loss: 0.3016, Val Acc: 0.8782\n"
     ]
    },
    {
     "name": "stderr",
     "output_type": "stream",
     "text": [
      "100%|██████████| 287/287 [00:00<00:00, 753.61it/s]\n"
     ]
    },
    {
     "name": "stdout",
     "output_type": "stream",
     "text": [
      "Epoch 9/20, Train Loss: 0.2421, Val Loss: 0.2913, Val Acc: 0.8824\n"
     ]
    },
    {
     "name": "stderr",
     "output_type": "stream",
     "text": [
      "100%|██████████| 287/287 [00:00<00:00, 749.23it/s]\n"
     ]
    },
    {
     "name": "stdout",
     "output_type": "stream",
     "text": [
      "Epoch 10/20, Train Loss: 0.2314, Val Loss: 0.2957, Val Acc: 0.8811\n"
     ]
    },
    {
     "name": "stderr",
     "output_type": "stream",
     "text": [
      "100%|██████████| 287/287 [00:00<00:00, 752.61it/s]\n"
     ]
    },
    {
     "name": "stdout",
     "output_type": "stream",
     "text": [
      "Epoch 11/20, Train Loss: 0.2242, Val Loss: 0.2961, Val Acc: 0.8798\n"
     ]
    },
    {
     "name": "stderr",
     "output_type": "stream",
     "text": [
      "100%|██████████| 287/287 [00:00<00:00, 753.74it/s]\n"
     ]
    },
    {
     "name": "stdout",
     "output_type": "stream",
     "text": [
      "Epoch 12/20, Train Loss: 0.2227, Val Loss: 0.2965, Val Acc: 0.8832\n"
     ]
    },
    {
     "name": "stderr",
     "output_type": "stream",
     "text": [
      "100%|██████████| 287/287 [00:00<00:00, 753.29it/s]\n"
     ]
    },
    {
     "name": "stdout",
     "output_type": "stream",
     "text": [
      "Epoch 13/20, Train Loss: 0.2098, Val Loss: 0.2921, Val Acc: 0.8830\n"
     ]
    },
    {
     "name": "stderr",
     "output_type": "stream",
     "text": [
      "100%|██████████| 287/287 [00:00<00:00, 754.14it/s]\n"
     ]
    },
    {
     "name": "stdout",
     "output_type": "stream",
     "text": [
      "Epoch 14/20, Train Loss: 0.2079, Val Loss: 0.3029, Val Acc: 0.8782\n"
     ]
    },
    {
     "name": "stderr",
     "output_type": "stream",
     "text": [
      "100%|██████████| 287/287 [00:00<00:00, 748.71it/s]\n"
     ]
    },
    {
     "name": "stdout",
     "output_type": "stream",
     "text": [
      "Epoch 15/20, Train Loss: 0.2004, Val Loss: 0.3014, Val Acc: 0.8804\n"
     ]
    },
    {
     "name": "stderr",
     "output_type": "stream",
     "text": [
      "100%|██████████| 287/287 [00:00<00:00, 753.93it/s]\n"
     ]
    },
    {
     "name": "stdout",
     "output_type": "stream",
     "text": [
      "Epoch 16/20, Train Loss: 0.1931, Val Loss: 0.3171, Val Acc: 0.8806\n"
     ]
    },
    {
     "name": "stderr",
     "output_type": "stream",
     "text": [
      "100%|██████████| 287/287 [00:00<00:00, 754.51it/s]\n"
     ]
    },
    {
     "name": "stdout",
     "output_type": "stream",
     "text": [
      "Epoch 17/20, Train Loss: 0.1877, Val Loss: 0.3172, Val Acc: 0.8774\n"
     ]
    },
    {
     "name": "stderr",
     "output_type": "stream",
     "text": [
      "100%|██████████| 287/287 [00:00<00:00, 753.67it/s]\n"
     ]
    },
    {
     "name": "stdout",
     "output_type": "stream",
     "text": [
      "Epoch 18/20, Train Loss: 0.1813, Val Loss: 0.3093, Val Acc: 0.8813\n"
     ]
    },
    {
     "name": "stderr",
     "output_type": "stream",
     "text": [
      "100%|██████████| 287/287 [00:00<00:00, 754.43it/s]\n"
     ]
    },
    {
     "name": "stdout",
     "output_type": "stream",
     "text": [
      "Epoch 19/20, Train Loss: 0.1782, Val Loss: 0.3114, Val Acc: 0.8815\n"
     ]
    },
    {
     "name": "stderr",
     "output_type": "stream",
     "text": [
      "100%|██████████| 287/287 [00:00<00:00, 751.80it/s]\n"
     ]
    },
    {
     "name": "stdout",
     "output_type": "stream",
     "text": [
      "Epoch 20/20, Train Loss: 0.1703, Val Loss: 0.3284, Val Acc: 0.8769\n"
     ]
    }
   ],
   "source": [
    "input_dim = 200 \n",
    "hidden_dim = 50 \n",
    "output_dim = 1 \n",
    "\n",
    "net = SimpleNN(input_dim, hidden_dim, output_dim)\n",
    "\n",
    "criterion = nn.BCEWithLogitsLoss()\n",
    "optimizer = optim.Adam(net.parameters(), lr=0.001)\n",
    "\n",
    "def binary_accuracy(preds, y):\n",
    "    rounded_preds = torch.round(torch.sigmoid(preds))\n",
    "    correct = (rounded_preds == y).float()  # Convert to float for division\n",
    "    acc = correct.sum() / len(correct)\n",
    "    return acc\n",
    "\n",
    "num_epochs = 20 \n",
    "\n",
    "for epoch in range(num_epochs):\n",
    "    net.train()\n",
    "    train_loss = 0.0\n",
    "    for inputs, labels in tqdm(train_loader):\n",
    "        optimizer.zero_grad()\n",
    "        outputs = net(inputs)\n",
    "        loss = criterion(outputs, labels.unsqueeze(1))\n",
    "        loss.backward()\n",
    "        optimizer.step()\n",
    "        train_loss += loss.item()\n",
    "\n",
    "    net.eval()\n",
    "    val_loss = 0.0\n",
    "    val_acc = 0.0\n",
    "    with torch.no_grad():\n",
    "        for inputs, labels in val_loader:\n",
    "            outputs = net(inputs)\n",
    "            loss = criterion(outputs, labels.unsqueeze(1))\n",
    "            val_loss += loss.item()\n",
    "            val_acc += binary_accuracy(outputs, labels.unsqueeze(1))\n",
    "\n",
    "    # Average losses and accuracy\n",
    "    train_loss /= len(train_loader)\n",
    "    val_loss /= len(val_loader)\n",
    "    val_acc /= len(val_loader)\n",
    "\n",
    "    print(f\"Epoch {epoch+1}/{num_epochs}, Train Loss: {train_loss:.4f}, Val Loss: {val_loss:.4f}, Val Acc: {val_acc:.4f}\")"
   ]
  },
  {
   "cell_type": "code",
   "execution_count": null,
   "id": "ecfce5db-53cb-48ae-8e07-81b9091e134e",
   "metadata": {},
   "outputs": [],
   "source": []
  },
  {
   "cell_type": "code",
   "execution_count": null,
   "id": "7a0bb7b4-42a9-4614-86d7-460b7c2dcd7f",
   "metadata": {},
   "outputs": [],
   "source": []
  },
  {
   "cell_type": "markdown",
   "id": "ee415241-54cb-45db-a480-e76567a2423f",
   "metadata": {},
   "source": [
    "#### Testing or Inference"
   ]
  },
  {
   "cell_type": "code",
   "execution_count": 140,
   "id": "616109c7-9474-4a7e-a331-760cd5646ea7",
   "metadata": {},
   "outputs": [],
   "source": [
    "test_df = pd.read_csv('test.csv')\n",
    "\n",
    "test_df['cleaned_abstract'] = test_df['abstract'].apply(clean_text)\n",
    "test_df['cleaned_title'] = test_df['title'].apply(clean_text)\n",
    "\n",
    "test_abstract_vectors = np.array([document_vector(doc) for doc in test_df['cleaned_abstract']])\n",
    "test_title_vectors = np.array([document_vector(doc) for doc in test_df['cleaned_title']])\n",
    "\n",
    "test_abstract_vectors, test_title_vectors = np.nan_to_num(test_abstract_vectors), np.nan_to_num(test_title_vectors)\n",
    "\n",
    "test_combined_vectors = np.hstack((test_abstract_vectors, test_title_vectors))\n",
    "\n",
    "X_test = test_combined_vectors\n",
    "y_test = test_df['label'].values\n",
    "\n",
    "X_test_tensor = torch.tensor(X_test, dtype=torch.float32)\n",
    "\n",
    "test_dataset = TensorDataset(X_test_tensor)\n",
    "\n",
    "test_loader = DataLoader(test_dataset, batch_size=32, shuffle=False) \n",
    "\n",
    "def predict(model, data_loader):\n",
    "    model.eval()  \n",
    "    predictions = []\n",
    "\n",
    "    with torch.no_grad():\n",
    "        for inputs in data_loader:\n",
    "            inputs = inputs[0]  \n",
    "            outputs = model(inputs)\n",
    "            preds = torch.sigmoid(outputs).round()\n",
    "            predictions.extend(preds.squeeze().tolist())\n",
    "\n",
    "    return predictions\n",
    "\n",
    "test_predictions = predict(net, test_loader)\n",
    "\n"
   ]
  },
  {
   "cell_type": "code",
   "execution_count": 141,
   "id": "72247de9-a0ed-4df7-8aee-b352e3bc0785",
   "metadata": {},
   "outputs": [
    {
     "name": "stdout",
     "output_type": "stream",
     "text": [
      "              precision    recall  f1-score   support\n",
      "\n",
      "         0.0       0.91      0.88      0.90      1501\n",
      "         1.0       0.87      0.91      0.89      1366\n",
      "\n",
      "    accuracy                           0.89      2867\n",
      "   macro avg       0.89      0.89      0.89      2867\n",
      "weighted avg       0.89      0.89      0.89      2867\n",
      "\n"
     ]
    }
   ],
   "source": [
    "print(classification_report(test_predictions, y_test))"
   ]
  },
  {
   "cell_type": "markdown",
   "id": "f481f8cc-3361-423e-90e6-ca3f1b3ed053",
   "metadata": {},
   "source": [
    "##### Accuracy: 89%  and F1: 89%"
   ]
  },
  {
   "cell_type": "markdown",
   "id": "41856c4a-fa0a-47ee-89cf-1dbd92f826ec",
   "metadata": {},
   "source": [
    "##### Not so good approach. But increasing embedding size to 200 or 300 helps."
   ]
  },
  {
   "cell_type": "code",
   "execution_count": null,
   "id": "df93dd32-464c-44ee-84d0-bbcb4467a6a1",
   "metadata": {},
   "outputs": [],
   "source": []
  },
  {
   "cell_type": "markdown",
   "id": "33291772-5cd3-4720-82e3-4d13e505e366",
   "metadata": {},
   "source": [
    "# Main Approach: Fine Tuning a pretrained BERT model from HuggingFace"
   ]
  },
  {
   "cell_type": "code",
   "execution_count": null,
   "id": "013fa557-5f03-4038-9b6a-61a1d9898c83",
   "metadata": {},
   "outputs": [],
   "source": []
  },
  {
   "cell_type": "code",
   "execution_count": 61,
   "id": "027445b2-df83-4373-bbdd-144325445e93",
   "metadata": {},
   "outputs": [],
   "source": [
    "train_text, val_text, train_labels, val_labels = train_test_split(df['abstract'], df['label'], test_size=0.1)"
   ]
  },
  {
   "cell_type": "code",
   "execution_count": 62,
   "id": "746f9cf2-1ea8-4fa1-aa40-7adb3dd5e0b2",
   "metadata": {},
   "outputs": [
    {
     "data": {
      "text/plain": [
       "<Axes: xlabel='abstract', ylabel='Count'>"
      ]
     },
     "execution_count": 62,
     "metadata": {},
     "output_type": "execute_result"
    },
    {
     "data": {
      "image/png": "[encoded data removed]",
      "text/plain": [
       "<Figure size 640x480 with 1 Axes>"
      ]
     },
     "metadata": {},
     "output_type": "display_data"
    }
   ],
   "source": [
    "def get_num_words(text):\n",
    "    \n",
    "    words = re.findall(r'\\b\\w+\\b', text)\n",
    "    return len(words)\n",
    "\n",
    "sns.histplot(train_text.apply(lambda x : get_num_words(x)))\n"
   ]
  },
  {
   "cell_type": "code",
   "execution_count": 63,
   "id": "5e098651-b907-422c-84ad-b9e00556eb0a",
   "metadata": {},
   "outputs": [],
   "source": [
    "tokenizer = BertTokenizerFast.from_pretrained('bert-base-uncased')\n",
    "\n",
    "train = tokenizer.batch_encode_plus(\n",
    "    train_text.tolist(),\n",
    "    padding='max_length',\n",
    "    max_length=300,\n",
    "    truncation=True\n",
    ")\n",
    "\n",
    "\n",
    "val = tokenizer.batch_encode_plus(\n",
    "    val_text.tolist(),\n",
    "    padding='max_length',\n",
    "    max_length=300,\n",
    "    truncation=True\n",
    ")"
   ]
  },
  {
   "cell_type": "code",
   "execution_count": 64,
   "id": "e05dc9b9-9a31-419a-acc4-46167b022d06",
   "metadata": {},
   "outputs": [],
   "source": [
    "train_seq = torch.tensor(train['input_ids'])\n",
    "train_mask = torch.tensor(train['attention_mask'])\n",
    "train_y = torch.tensor(train_labels.tolist())\n",
    "\n",
    "val_seq = torch.tensor(val['input_ids'])\n",
    "val_mask = torch.tensor(val['attention_mask'])\n",
    "val_y = torch.tensor(val_labels.tolist())"
   ]
  },
  {
   "cell_type": "code",
   "execution_count": 65,
   "id": "91a6448e-c752-4104-9ef3-99e22d170cc5",
   "metadata": {},
   "outputs": [],
   "source": [
    "batch_size = 32\n",
    "\n",
    "train_ds = TensorDataset(train_seq, train_mask, train_y)\n",
    "train_dataloader =   DataLoader(train_ds, batch_size = batch_size, shuffle = False)\n",
    "\n",
    "\n",
    "val_ds = TensorDataset(val_seq, val_mask, val_y)\n",
    "val_dataloader =  DataLoader(val_ds, batch_size = batch_size, shuffle = False)"
   ]
  },
  {
   "cell_type": "code",
   "execution_count": 66,
   "id": "c2d6e998-3001-4587-9b1f-1427c191e102",
   "metadata": {},
   "outputs": [
    {
     "name": "stderr",
     "output_type": "stream",
     "text": [
      "Some weights of BertForSequenceClassification were not initialized from the model checkpoint at bert-base-uncased and are newly initialized: ['classifier.bias', 'classifier.weight']\n",
      "You should probably TRAIN this model on a down-stream task to be able to use it for predictions and inference.\n"
     ]
    }
   ],
   "source": [
    "model = BertForSequenceClassification.from_pretrained('bert-base-uncased', num_labels=2)"
   ]
  },
  {
   "cell_type": "code",
   "execution_count": 67,
   "id": "ecb29cac-b497-419b-baf0-d6c2f95dd48f",
   "metadata": {},
   "outputs": [],
   "source": [
    "device = torch.device(\"cuda\" if torch.cuda.is_available() else \"cpu\")\n",
    "\n",
    "model = model.to(device)"
   ]
  },
  {
   "cell_type": "code",
   "execution_count": 68,
   "id": "9b3c9d4b-177a-4946-9823-87c663219b99",
   "metadata": {},
   "outputs": [
    {
     "name": "stderr",
     "output_type": "stream",
     "text": [
      "100%|██████████| 323/323 [05:27<00:00,  1.01s/it]\n"
     ]
    },
    {
     "name": "stdout",
     "output_type": "stream",
     "text": [
      "Epoch 1, Train Loss: 0.07554053498328239, Val Loss: 0.004115138222308208, Val Accuracy: 1.0\n"
     ]
    },
    {
     "name": "stderr",
     "output_type": "stream",
     "text": [
      "100%|██████████| 323/323 [05:27<00:00,  1.01s/it]\n"
     ]
    },
    {
     "name": "stdout",
     "output_type": "stream",
     "text": [
      "Epoch 2, Train Loss: 0.009407833502764869, Val Loss: 0.008294308545171387, Val Accuracy: 0.995640802092415\n"
     ]
    }
   ],
   "source": [
    "from tqdm import tqdm\n",
    "from torch.optim import AdamW\n",
    "\n",
    "optimizer = AdamW(model.parameters(), lr=2e-5)\n",
    "loss_function = nn.CrossEntropyLoss()\n",
    "\n",
    "def train(model, dataloader):\n",
    "    model.train()\n",
    "    total_loss = 0\n",
    "    for batch in tqdm(dataloader, total=len(dataloader)):\n",
    "        batch = [r.to(device) for r in batch]\n",
    "        inputs, masks, labels = batch\n",
    "        model.zero_grad()\n",
    "\n",
    "        outputs = model(inputs, attention_mask=masks)\n",
    "        logits = outputs.logits\n",
    "        loss = loss_function(logits, labels)\n",
    "        total_loss += loss.item()\n",
    "\n",
    "        loss.backward()\n",
    "        optimizer.step()\n",
    "    \n",
    "    return total_loss / len(dataloader)\n",
    "    \n",
    "def evaluate(model, dataloader):\n",
    "    model.eval()\n",
    "    total_loss = 0\n",
    "    correct_predictions = 0\n",
    "    total_predictions = 0\n",
    "\n",
    "    with torch.no_grad():\n",
    "        for batch in dataloader:\n",
    "            batch = [r.to(device) for r in batch]\n",
    "            inputs, masks, labels = batch\n",
    "\n",
    "            outputs = model(inputs, attention_mask=masks)\n",
    "            logits = outputs.logits\n",
    "            loss = loss_function(logits, labels)\n",
    "            total_loss += loss.item()\n",
    "\n",
    "            predictions = torch.argmax(logits, dim=1)\n",
    "            correct_predictions += (predictions == labels).sum().item()\n",
    "            total_predictions += labels.size(0)\n",
    "\n",
    "    accuracy = correct_predictions / total_predictions\n",
    "    average_loss = total_loss / len(dataloader)\n",
    "    return average_loss, accuracy\n",
    "\n",
    "epochs = 2\n",
    "\n",
    "for epoch in range(epochs):\n",
    "    train_loss = train(model, train_dataloader)\n",
    "    val_loss, val_accuracy = evaluate(model, val_dataloader)\n",
    "    print(f'Epoch {epoch+1}, Train Loss: {train_loss}, Val Loss: {val_loss}, Val Accuracy: {val_accuracy}')\n"
   ]
  },
  {
   "cell_type": "code",
   "execution_count": 69,
   "id": "e6270900-e81d-49c6-8da7-608a2efcac0d",
   "metadata": {},
   "outputs": [],
   "source": [
    "MODEL_PATH = 'finetuned_model.pt'\n",
    "\n",
    "torch.save(model.state_dict(), MODEL_PATH)"
   ]
  },
  {
   "cell_type": "code",
   "execution_count": null,
   "id": "8fa8a507-9ee6-4b9b-9f37-d71a04ed23bb",
   "metadata": {},
   "outputs": [],
   "source": []
  },
  {
   "cell_type": "markdown",
   "id": "f8f577e5-231f-47a1-832e-7547c8cc6d3d",
   "metadata": {},
   "source": [
    "#### Testing or Inference"
   ]
  },
  {
   "cell_type": "code",
   "execution_count": 72,
   "id": "3f268c38-b1f0-4250-a51d-62247ed5b921",
   "metadata": {},
   "outputs": [
    {
     "name": "stderr",
     "output_type": "stream",
     "text": [
      "Some weights of BertForSequenceClassification were not initialized from the model checkpoint at bert-base-uncased and are newly initialized: ['classifier.bias', 'classifier.weight']\n",
      "You should probably TRAIN this model on a down-stream task to be able to use it for predictions and inference.\n"
     ]
    }
   ],
   "source": [
    "test_df = pd.read_csv('test.csv')\n",
    "\n",
    "test_text = test_df.abstract\n",
    "test_labels = test_df['label'].values\n",
    "\n",
    "tokenizer = BertTokenizerFast.from_pretrained('bert-base-uncased')\n",
    "\n",
    "test = tokenizer.batch_encode_plus(\n",
    "    test_text.tolist(),\n",
    "    padding='max_length',\n",
    "    max_length=300,\n",
    "    truncation=True\n",
    ")\n",
    "\n",
    "test_seq = torch.tensor(test['input_ids'])\n",
    "test_mask = torch.tensor(test['attention_mask'])\n",
    "test_y = torch.tensor(test_labels.tolist())\n",
    "\n",
    "test_ds = TensorDataset(test_seq, test_mask, test_y)\n",
    "\n",
    "test_dataloader = DataLoader(test_ds, batch_size=32, shuffle=False)\n",
    "\n",
    "model = BertForSequenceClassification.from_pretrained('bert-base-uncased', num_labels=2)\n",
    "\n",
    "device = torch.device(\"cuda\" if torch.cuda.is_available() else \"cpu\")\n",
    "\n",
    "model = model.to(device)"
   ]
  },
  {
   "cell_type": "code",
   "execution_count": 73,
   "id": "c0a67eda-f6dc-4f1c-a3cf-0e6da8a0ec6e",
   "metadata": {},
   "outputs": [
    {
     "data": {
      "text/plain": [
       "BertForSequenceClassification(\n",
       "  (bert): BertModel(\n",
       "    (embeddings): BertEmbeddings(\n",
       "      (word_embeddings): Embedding(30522, 768, padding_idx=0)\n",
       "      (position_embeddings): Embedding(512, 768)\n",
       "      (token_type_embeddings): Embedding(2, 768)\n",
       "      (LayerNorm): LayerNorm((768,), eps=1e-12, elementwise_affine=True)\n",
       "      (dropout): Dropout(p=0.1, inplace=False)\n",
       "    )\n",
       "    (encoder): BertEncoder(\n",
       "      (layer): ModuleList(\n",
       "        (0-11): 12 x BertLayer(\n",
       "          (attention): BertAttention(\n",
       "            (self): BertSelfAttention(\n",
       "              (query): Linear(in_features=768, out_features=768, bias=True)\n",
       "              (key): Linear(in_features=768, out_features=768, bias=True)\n",
       "              (value): Linear(in_features=768, out_features=768, bias=True)\n",
       "              (dropout): Dropout(p=0.1, inplace=False)\n",
       "            )\n",
       "            (output): BertSelfOutput(\n",
       "              (dense): Linear(in_features=768, out_features=768, bias=True)\n",
       "              (LayerNorm): LayerNorm((768,), eps=1e-12, elementwise_affine=True)\n",
       "              (dropout): Dropout(p=0.1, inplace=False)\n",
       "            )\n",
       "          )\n",
       "          (intermediate): BertIntermediate(\n",
       "            (dense): Linear(in_features=768, out_features=3072, bias=True)\n",
       "            (intermediate_act_fn): GELUActivation()\n",
       "          )\n",
       "          (output): BertOutput(\n",
       "            (dense): Linear(in_features=3072, out_features=768, bias=True)\n",
       "            (LayerNorm): LayerNorm((768,), eps=1e-12, elementwise_affine=True)\n",
       "            (dropout): Dropout(p=0.1, inplace=False)\n",
       "          )\n",
       "        )\n",
       "      )\n",
       "    )\n",
       "    (pooler): BertPooler(\n",
       "      (dense): Linear(in_features=768, out_features=768, bias=True)\n",
       "      (activation): Tanh()\n",
       "    )\n",
       "  )\n",
       "  (dropout): Dropout(p=0.1, inplace=False)\n",
       "  (classifier): Linear(in_features=768, out_features=2, bias=True)\n",
       ")"
      ]
     },
     "execution_count": 73,
     "metadata": {},
     "output_type": "execute_result"
    }
   ],
   "source": [
    "MODEL_PATH = 'finetuned_model.pt'\n",
    "\n",
    "model.load_state_dict(torch.load(MODEL_PATH))\n",
    "model.eval()"
   ]
  },
  {
   "cell_type": "code",
   "execution_count": 75,
   "id": "e8e39c2e-3032-47a2-aada-045a3b0ebd03",
   "metadata": {},
   "outputs": [
    {
     "name": "stdout",
     "output_type": "stream",
     "text": [
      "Test Accuracy: 0.9972096267875828\n",
      "              precision    recall  f1-score   support\n",
      "\n",
      "      AI Gen       0.99      1.00      1.00      1445\n",
      "         Not       1.00      0.99      1.00      1422\n",
      "\n",
      "    accuracy                           1.00      2867\n",
      "   macro avg       1.00      1.00      1.00      2867\n",
      "weighted avg       1.00      1.00      1.00      2867\n",
      "\n"
     ]
    }
   ],
   "source": [
    "def evaluate_model(model, dataloader):\n",
    "    model.eval()\n",
    "    correct_predictions = 0\n",
    "    total_predictions = 0\n",
    "\n",
    "    all_labels = []\n",
    "    all_predictions = []\n",
    "\n",
    "    with torch.no_grad():\n",
    "        for batch in dataloader:\n",
    "            batch = [r.to(device) for r in batch]\n",
    "            inputs, masks, labels = batch\n",
    "\n",
    "            outputs = model(inputs, attention_mask=masks)\n",
    "            logits = outputs.logits\n",
    "            predictions = torch.argmax(logits, dim=1)\n",
    "\n",
    "            correct_predictions += (predictions == labels).sum().item()\n",
    "            total_predictions += labels.size(0)\n",
    "\n",
    "            all_labels.extend(labels.cpu().numpy())\n",
    "            all_predictions.extend(predictions.cpu().numpy())\n",
    "\n",
    "    accuracy = correct_predictions / total_predictions\n",
    "    report = classification_report(all_labels, all_predictions, target_names=['AI Gen', 'Not'])  \n",
    "    return accuracy, report\n",
    "\n",
    "# Calculate test accuracy and classification report\n",
    "test_accuracy, test_report = evaluate_model(model, test_dataloader)\n",
    "print(f'Test Accuracy: {test_accuracy}')\n",
    "print(test_report)\n"
   ]
  },
  {
   "cell_type": "markdown",
   "id": "0e61831d-c46c-4332-8ec9-aa9869c9e408",
   "metadata": {},
   "source": [
    "##### Accuracy: 99-100%  and F1: 99-100%"
   ]
  },
  {
   "cell_type": "code",
   "execution_count": null,
   "id": "375a5db5-1fd0-48ce-8904-4240d2deaf98",
   "metadata": {},
   "outputs": [],
   "source": []
  }
 ],
 "metadata": {
  "kernelspec": {
   "display_name": "Python 3 (ipykernel)",
   "language": "python",
   "name": "python3"
  },
  "language_info": {
   "codemirror_mode": {
    "name": "ipython",
    "version": 3
   },
   "file_extension": ".py",
   "mimetype": "text/x-python",
   "name": "python",
   "nbconvert_exporter": "python",
   "pygments_lexer": "ipython3",
   "version": "3.9.18"
  }
 },
 "nbformat": 4,
 "nbformat_minor": 5
}
